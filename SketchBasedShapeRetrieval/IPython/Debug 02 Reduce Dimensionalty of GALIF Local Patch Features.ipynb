{
 "metadata": {
  "name": "Debug 02 Reduce Dimensionalty of GALIF Local Patch Features"
 },
 "nbformat": 3,
 "nbformat_minor": 0,
 "worksheets": [
  {
   "cells": [
    {
     "cell_type": "code",
     "collapsed": false,
     "input": [
      "import numpy\n",
      "import math\n",
      "import scipy\n",
      "import scipy.io\n",
      "import scipy.misc\n",
      "import scipy.cluster\n",
      "import scipy.cluster.vq\n",
      "import matplotlib\n",
      "import matplotlib.pyplot\n",
      "import os\n",
      "import IPython\n",
      "import IPython.parallel\n",
      "import itertools\n",
      "import random\n",
      "import sklearn\n",
      "import sklearn.decomposition\n",
      "import sklearn.manifold\n",
      "import sklearn.cluster\n",
      "import sklearn.feature_extraction\n",
      "import sklearn.feature_extraction.text\n",
      "\n",
      "base_path = \"/u/mlrobert/code/local/2013_drawing_assistant/data/\""
     ],
     "language": "python",
     "metadata": {},
     "outputs": [],
     "prompt_number": 1
    },
    {
     "cell_type": "code",
     "collapsed": false,
     "input": [
      "local_feature_corpus_path_name_ext = \\\n",
      "    base_path+\"local_feature_corpus/bunny2/\"+ \\\n",
      "    \"apparent_ridges.num_latitude_lines=20.num_longitude_lines=20.gabor.num_thetas=08.galif.patch_width=15.num_samples=32.num_tiles=04.num_samples=0010000/\"+ \\\n",
      "    \"local_feature_corpus.mat\"\n",
      "\n",
      "local_feature_corpus_reduced_path = \\\n",
      "    base_path+\"debug/local_feature_corpus_reduced/bunny2/\"+ \\\n",
      "    \"apparent_ridges.num_latitude_lines=20.num_longitude_lines=20.gabor.num_thetas=08.galif.patch_width=15.num_samples=32.num_tiles=04.num_samples=0010000/\"\n",
      "\n",
      "if not os.path.exists(local_feature_corpus_reduced_path):\n",
      "    os.makedirs(local_feature_corpus_reduced_path)\n",
      "\n",
      "local_feature_corpus_reduced_pca_2d_path_name_ext    = local_feature_corpus_reduced_path+\"local_feature_corpus_reduced.pca.2d.mat\"\n",
      "local_feature_corpus_reduced_pca_3d_path_name_ext    = local_feature_corpus_reduced_path+\"local_feature_corpus_reduced.pca.3d.mat\"\n",
      "local_feature_corpus_reduced_isomap_2d_path_name_ext = local_feature_corpus_reduced_path+\"local_feature_corpus_reduced.isomap.2d.mat\"\n",
      "local_feature_corpus_reduced_isomap_3d_path_name_ext = local_feature_corpus_reduced_path+\"local_feature_corpus_reduced.isomap.3d.mat\""
     ],
     "language": "python",
     "metadata": {},
     "outputs": [],
     "prompt_number": 21
    },
    {
     "cell_type": "code",
     "collapsed": false,
     "input": [
      "local_features_mat = scipy.io.loadmat(local_feature_corpus_path_name_ext)\n",
      "local_features     = local_features_mat[\"local_features\"]"
     ],
     "language": "python",
     "metadata": {},
     "outputs": [],
     "prompt_number": 19
    },
    {
     "cell_type": "code",
     "collapsed": false,
     "input": [
      "pca_2d                        = sklearn.decomposition.PCA(2)\n",
      "local_features_reduced_pca_2d = pca_2d.fit_transform(local_features)\n",
      "scipy.io.savemat(local_feature_corpus_reduced_pca_2d_path_name_ext, {\"local_features_reduced_pca_2d\" : local_features_reduced_pca_2d}, oned_as=\"column\")\n",
      "\n",
      "pca_3d                        = sklearn.decomposition.PCA(3)\n",
      "local_features_reduced_pca_3d = pca_3d.fit_transform(local_features)\n",
      "scipy.io.savemat(local_feature_corpus_reduced_pca_3d_path_name_ext, {\"local_features_reduced_pca_3d\" : local_features_reduced_pca_3d}, oned_as=\"column\")\n",
      "\n",
      "isomap_2d                        = sklearn.manifold.Isomap(n_components=2)\n",
      "local_features_reduced_isomap_2d = isomap_2d.fit_transform(local_features)\n",
      "scipy.io.savemat(local_feature_corpus_reduced_isomap_2d_path_name_ext, {\"local_features_reduced_isomap_2d\" : local_features_reduced_isomap_2d}, oned_as=\"column\")\n",
      "\n",
      "isomap_3d                        = sklearn.manifold.Isomap(n_components=3)\n",
      "local_features_reduced_isomap_3d = isomap_3d.fit_transform(local_features)\n",
      "scipy.io.savemat(local_feature_corpus_reduced_isomap_3d_path_name_ext, {\"local_features_reduced_isomap_3d\" : local_features_reduced_isomap_3d}, oned_as=\"column\")"
     ],
     "language": "python",
     "metadata": {},
     "outputs": [
      {
       "output_type": "stream",
       "stream": "stderr",
       "text": [
        "/usr/local/lib/python2.6/dist-packages/scikit_learn-0.13-py2.6-linux-x86_64.egg/sklearn/neighbors/base.py:327: NeighborsWarning: kneighbors: neighbor k+1 and neighbor k have the same distance: results will be dependent on data order.\n",
        "  return_distance=True)\n",
        "/usr/local/lib/python2.6/dist-packages/scikit_learn-0.13-py2.6-linux-x86_64.egg/sklearn/neighbors/base.py:327: NeighborsWarning: kneighbors: neighbor k+1 and neighbor k have the same distance: results will be dependent on data order.\n",
        "  return_distance=True)\n"
       ]
      }
     ],
     "prompt_number": 22
    }
   ],
   "metadata": {}
  }
 ]
}