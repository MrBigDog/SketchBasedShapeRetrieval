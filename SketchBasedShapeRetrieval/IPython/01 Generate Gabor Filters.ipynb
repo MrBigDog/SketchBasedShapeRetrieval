{
 "metadata": {
  "name": "01 Generate Gabor Filters"
 },
 "nbformat": 3,
 "nbformat_minor": 0,
 "worksheets": [
  {
   "cells": [
    {
     "cell_type": "code",
     "collapsed": false,
     "input": [
      "import numpy\n",
      "import math\n",
      "import scipy\n",
      "import scipy.io\n",
      "import scipy.misc\n",
      "import scipy.cluster\n",
      "import scipy.cluster.vq\n",
      "import matplotlib\n",
      "import matplotlib.pyplot\n",
      "import os\n",
      "import IPython\n",
      "import IPython.parallel\n",
      "import itertools\n",
      "import random\n",
      "import sklearn\n",
      "import sklearn.decomposition\n",
      "import sklearn.manifold\n",
      "import sklearn.cluster\n",
      "import sklearn.feature_extraction\n",
      "import sklearn.feature_extraction.text\n",
      "\n",
      "base_path = \"/u/mlrobert/code/local/2013_drawing_assistant/data/\""
     ],
     "language": "python",
     "metadata": {},
     "outputs": [],
     "prompt_number": 13
    },
    {
     "cell_type": "code",
     "collapsed": false,
     "input": [
      "filter_path = base_path+\"/filters/gabor/num_thetas=08/\"\n",
      "debug_path  = base_path+\"/debug/filters/gabor/num_thetas=08/\"\n",
      "\n",
      "if not os.path.exists(filter_path):\n",
      "    os.makedirs(filter_path)\n",
      "    \n",
      "if not os.path.exists(debug_path):\n",
      "    os.makedirs(debug_path)"
     ],
     "language": "python",
     "metadata": {},
     "outputs": [],
     "prompt_number": 14
    },
    {
     "cell_type": "code",
     "collapsed": false,
     "input": [
      "side_length = 512\n",
      "line_width  = 0.02\n",
      "lamb        = 0.2\n",
      "w           = 0.13\n",
      "\n",
      "sigma_x = line_width * w\n",
      "sigma_y = sigma_x / lamb\n",
      "\n",
      "num_thetas = 8\n",
      "\n",
      "thetas = numpy.linspace(0, math.pi, num_thetas + 1)\n",
      "\n",
      "for theta_index in range(num_thetas):\n",
      "\n",
      "    theta = thetas[theta_index]\n",
      "    \n",
      "    R = numpy.array([[math.cos(theta), -math.sin(theta)], [math.sin(theta), math.cos(theta)]])\n",
      "    \n",
      "    u = numpy.arange(-256, 256)\n",
      "    v = numpy.arange(-256, 256)\n",
      "    \n",
      "    (U, V) = numpy.meshgrid(u, v)\n",
      "    \n",
      "    U_theta = (U * R[0,0]) + (V * R[0,1])\n",
      "    V_theta = (U * R[1,0]) + (V * R[1,1])\n",
      "    \n",
      "    g = numpy.exp(-2*(math.pi**2)*((U_theta - w)**2*(sigma_x**2) + (V_theta**2)*(sigma_y**2)))\n",
      "\n",
      "    scipy.io.savemat(\"%stheta=%02d.mat\" % (filter_path, theta_index), {\"g\":g}, oned_as=\"column\")\n",
      "\n",
      "    clf();\n",
      "    imshow(g, interpolation=\"nearest\");\n",
      "    colorbar();\n",
      "    savefig(\"%stheta=%02d.png\" % (debug_path, theta_index));\n",
      "    clf();"
     ],
     "language": "python",
     "metadata": {},
     "outputs": [],
     "prompt_number": 18
    }
   ],
   "metadata": {}
  }
 ]
}