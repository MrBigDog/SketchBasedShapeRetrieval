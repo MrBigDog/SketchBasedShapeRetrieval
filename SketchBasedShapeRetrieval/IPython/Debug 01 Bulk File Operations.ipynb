{
 "metadata": {
  "name": "Debug 01 Bulk File Operations"
 },
 "nbformat": 3,
 "nbformat_minor": 0,
 "worksheets": [
  {
   "cells": [
    {
     "cell_type": "code",
     "collapsed": false,
     "input": [
      "import numpy\n",
      "import math\n",
      "import scipy\n",
      "import scipy.io\n",
      "import scipy.misc\n",
      "import scipy.cluster\n",
      "import scipy.cluster.vq\n",
      "import matplotlib\n",
      "import matplotlib.pyplot\n",
      "import os\n",
      "import IPython\n",
      "import IPython.parallel\n",
      "import itertools\n",
      "import random\n",
      "import sklearn\n",
      "import sklearn.decomposition\n",
      "import sklearn.manifold\n",
      "import sklearn.cluster\n",
      "import sklearn.feature_extraction\n",
      "import sklearn.feature_extraction.text\n",
      "\n",
      "base_path = \"/u/mlrobert/code/local/2013_drawing_assistant/data/\""
     ],
     "language": "python",
     "metadata": {},
     "outputs": [],
     "prompt_number": 1
    },
    {
     "cell_type": "code",
     "collapsed": false,
     "input": [
      "rename_path = base_path+\"debug/filter_responses/bunny2/apparent_ridges.num_latitude_lines=20.num_longitude_lines=20.num_thetas=08/\"\n",
      "\n",
      "names_exts = sorted(os.listdir(rename_path))\n",
      "\n",
      "for name_ext in names_exts:\n",
      "    new_name_ext = name_ext.replace(\"gabor.\", \"\")\n",
      "    cmd          = \"mv %s%s %s%s\" % (rename_path, name_ext, rename_path, new_name_ext)\n",
      "    os.system(cmd)"
     ],
     "language": "python",
     "metadata": {},
     "outputs": []
    },
    {
     "cell_type": "code",
     "collapsed": false,
     "input": [
      "old_path = \\\n",
      "    base_path+\"local_features/bunny2/\"+ \\\n",
      "    \"apparent_ridges.num_latitude_lines=20.num_longitude_lines=20.num_thetas=08.patch_width=15.num_samples=32.num_tiles=04/\"\n",
      "\n",
      "new_path = \\\n",
      "    base_path+\"debug/local_features/bunny2/\"+ \\\n",
      "    \"apparent_ridges.num_latitude_lines=20.num_longitude_lines=20.num_thetas=08.patch_width=15.num_samples=32.num_tiles=04/\"\n",
      "\n",
      "names_exts = sorted(os.listdir(old_path))\n",
      "\n",
      "for name_ext in names_exts:\n",
      "    if name_ext.endswith(\".png\"):\n",
      "        cmd          = \"mv %s%s %s%s\" % (old_path, name_ext, new_path, name_ext)\n",
      "        os.system(cmd)"
     ],
     "language": "python",
     "metadata": {},
     "outputs": [],
     "prompt_number": 26
    },
    {
     "cell_type": "code",
     "collapsed": false,
     "input": [
      "old_path = \\\n",
      "    base_path+\"local_features/bunny2/\"+ \\\n",
      "    \"apparent_ridges.num_latitude_lines=20.num_longitude_lines=20.num_thetas=08.patch_width=15.num_samples=32.num_tiles=04/\"\n",
      "\n",
      "new_path = \\\n",
      "    base_path+\"debug/local_features/bunny2/\"+ \\\n",
      "    \"apparent_ridges.num_latitude_lines=20.num_longitude_lines=20.num_thetas=08.patch_width=15.num_samples=32.num_tiles=04/\"\n",
      "\n",
      "names_exts = sorted(os.listdir(old_path))\n",
      "\n",
      "for name_ext in names_exts:\n",
      "    if name_ext.endswith(\".png\"):\n",
      "        cmd          = \"mv %s%s %s%s\" % (old_path, name_ext, new_path, name_ext)\n",
      "        os.system(cmd)"
     ],
     "language": "python",
     "metadata": {},
     "outputs": []
    },
    {
     "cell_type": "code",
     "collapsed": false,
     "input": [
      "img_path = \\\n",
      "    base_path+\"renderings/bunny2/\"+ \\\n",
      "    \"apparent_ridges.num_latitude_lines=20.num_longitude_lines=20/\"\n",
      "\n",
      "mkdir_path = \\\n",
      "    base_path+\"debug/filter_responses/bunny2/\"+ \\\n",
      "    \"apparent_ridges.num_latitude_lines=20.num_longitude_lines=20.num_thetas=08/\"\n",
      "\n",
      "img_names_exts = sorted(os.listdir(img_path))\n",
      "mv_names_exts = sorted(os.listdir(mkdir_path))\n",
      "\n",
      "for img_name_ext in img_names_exts:\n",
      "    \n",
      "    img_name = img_name_ext[:-4]\n",
      "    img_ext  = img_name_ext[-4:]\n",
      "    \n",
      "    cmd = \"mkdir %s%s\" % (mkdir_path, img_name)\n",
      "    os.system(cmd)\n",
      "    \n",
      "for mv_name_ext in mv_names_exts:\n",
      "\n",
      "    img_name = mv_name_ext[0:24]\n",
      "    new_name = mv_name_ext[25:]\n",
      "    \n",
      "    cmd = \"mv %s%s %s%s/%s\" % (mkdir_path, mv_name_ext, mkdir_path, img_name, new_name)\n",
      "    os.system(cmd)"
     ],
     "language": "python",
     "metadata": {},
     "outputs": [],
     "prompt_number": 35
    },
    {
     "cell_type": "code",
     "collapsed": false,
     "input": [
      "old_base_path = \\\n",
      "    base_path+\"debug/local_features/bunny2/\"+ \\\n",
      "    \"apparent_ridges.num_latitude_lines=20.num_longitude_lines=20.gabor.num_thetas=08.galif.patch_width=15.num_samples=32.num_tiles=04/\"\n",
      "    \n",
      "new_base_path = \\\n",
      "    base_path+\"debug/filter_responses/bunny2/\"+ \\\n",
      "    \"apparent_ridges.num_latitude_lines=20.num_longitude_lines=20.gabor.num_thetas=08/\"\n",
      "        \n",
      "img_names = sorted(os.listdir(old_base_path))\n",
      "\n",
      "for img_name in img_names:\n",
      "    cmd = \"mv %s%s/*.png %s%s/\" % (old_base_path, img_name, new_base_path, img_name)\n",
      "    os.system(cmd)"
     ],
     "language": "python",
     "metadata": {},
     "outputs": [],
     "prompt_number": 38
    }
   ],
   "metadata": {}
  }
 ]
}