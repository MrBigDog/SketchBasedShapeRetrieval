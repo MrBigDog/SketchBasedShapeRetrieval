{
 "metadata": {
  "name": "05 Cluster Sampled GALIF Local Patch Features"
 },
 "nbformat": 3,
 "nbformat_minor": 0,
 "worksheets": [
  {
   "cells": [
    {
     "cell_type": "code",
     "collapsed": false,
     "input": [
      "import numpy\n",
      "import math\n",
      "import scipy\n",
      "import scipy.io\n",
      "import scipy.misc\n",
      "import scipy.cluster\n",
      "import scipy.cluster.vq\n",
      "import matplotlib\n",
      "import matplotlib.pyplot\n",
      "import os\n",
      "import IPython\n",
      "import IPython.parallel\n",
      "import itertools\n",
      "import random\n",
      "import sklearn\n",
      "import sklearn.decomposition\n",
      "import sklearn.manifold\n",
      "import sklearn.cluster\n",
      "import sklearn.feature_extraction\n",
      "import sklearn.feature_extraction.text\n",
      "\n",
      "base_path = \"/u/mlrobert/code/local/2013_drawing_assistant/data/\""
     ],
     "language": "python",
     "metadata": {},
     "outputs": [],
     "prompt_number": 1
    },
    {
     "cell_type": "code",
     "collapsed": false,
     "input": [
      "local_feature_corpus_path_name_ext = \\\n",
      "    base_path+\"local_feature_corpus/bunny2/\"+ \\\n",
      "    \"apparent_ridges.num_latitude_lines=20.num_longitude_lines=20.gabor.num_thetas=08.galif.patch_width=15.num_samples=32.num_tiles=04.num_samples=1000000/\"+ \\\n",
      "    \"local_feature_corpus.mat\"\n",
      "\n",
      "local_feature_cluster_centroids_path = \\\n",
      "    base_path+\"local_feature_cluster_centroids/bunny2/\"+ \\\n",
      "    \"apparent_ridges.num_latitude_lines=20.num_longitude_lines=20.gabor.num_thetas=08.galif.patch_width=15.num_samples=32.num_tiles=04.num_samples=1000000.k=5000/\"\n",
      "\n",
      "if not os.path.exists(local_feature_cluster_centroids_path):\n",
      "    os.makedirs(local_feature_cluster_centroids_path)\n",
      "\n",
      "local_feature_cluster_centroids_path_name_ext = local_feature_cluster_centroids_path+\"local_feature_cluster_centroids.mat\""
     ],
     "language": "python",
     "metadata": {},
     "outputs": [],
     "prompt_number": 2
    },
    {
     "cell_type": "code",
     "collapsed": false,
     "input": [
      "local_features_mat = scipy.io.loadmat(local_feature_corpus_path_name_ext)\n",
      "local_features     = local_features_mat[\"local_features\"]"
     ],
     "language": "python",
     "metadata": {},
     "outputs": [],
     "prompt_number": 3
    },
    {
     "cell_type": "code",
     "collapsed": false,
     "input": [
      "print local_features.shape"
     ],
     "language": "python",
     "metadata": {},
     "outputs": [
      {
       "output_type": "stream",
       "stream": "stdout",
       "text": [
        "(1000000, 128)\n"
       ]
      }
     ],
     "prompt_number": 4
    },
    {
     "cell_type": "code",
     "collapsed": false,
     "input": [
      "codebook_size = 5000\n",
      "k             = codebook_size\n",
      "seed          = 0\n",
      "\n",
      "k_means_clustering = sklearn.cluster.MiniBatchKMeans(k=k, random_state=seed, verbose=True, compute_labels=False)\n",
      "k_means_clustering.fit(local_features)"
     ],
     "language": "python",
     "metadata": {},
     "outputs": [
      {
       "output_type": "stream",
       "stream": "stderr",
       "text": [
        "-c:5: DeprecationWarning: Parameter k has been replaced by 'n_clusters' and will be removed in release 0.14.\n",
        "/usr/local/lib/python2.6/dist-packages/scikit_learn-0.13-py2.6-linux-x86_64.egg/sklearn/cluster/k_means_.py:1176: RuntimeWarning: init_size=300 should be larger than k=5000. Setting it to 3*k\n",
        "  init_size=init_size)\n"
       ]
      },
      {
       "output_type": "stream",
       "stream": "stdout",
       "text": [
        "Init 1/3 with method: k-means++\n",
        "Inertia for init 1/3: 0.439552"
       ]
      },
      {
       "output_type": "stream",
       "stream": "stdout",
       "text": [
        "\n",
        "Init 2/3 with method: k-means++\n",
        "Inertia for init 2/3: 0.188259"
       ]
      },
      {
       "output_type": "stream",
       "stream": "stdout",
       "text": [
        "\n",
        "Init 3/3 with method: k-means++\n",
        "Inertia for init 3/3: 0.222177"
       ]
      },
      {
       "output_type": "stream",
       "stream": "stdout",
       "text": [
        "\n",
        "Minibatch iteration 1/1000000:mean batch inertia: 0.030177, ewa inertia: 0.030177 "
       ]
      },
      {
       "output_type": "stream",
       "stream": "stdout",
       "text": [
        "\n",
        "Minibatch iteration 2/1000000:mean batch inertia: 0.030318, ewa inertia: 0.030177 "
       ]
      },
      {
       "output_type": "stream",
       "stream": "stdout",
       "text": [
        "\n",
        "Minibatch iteration 3/1000000:mean batch inertia: 0.029789, ewa inertia: 0.030176 "
       ]
      },
      {
       "output_type": "stream",
       "stream": "stdout",
       "text": [
        "\n",
        "Minibatch iteration 4/1000000:mean batch inertia: 0.035389, ewa inertia: 0.030178 "
       ]
      },
      {
       "output_type": "stream",
       "stream": "stdout",
       "text": [
        "\n",
        "Minibatch iteration 5/1000000:mean batch inertia: 0.031143, ewa inertia: 0.030178 "
       ]
      },
      {
       "output_type": "stream",
       "stream": "stdout",
       "text": [
        "\n",
        "Minibatch iteration 6/1000000:mean batch inertia: 0.035013, ewa inertia: 0.030179 "
       ]
      },
      {
       "output_type": "stream",
       "stream": "stdout",
       "text": [
        "\n",
        "Minibatch iteration 7/1000000:mean batch inertia: 0.028210, ewa inertia: 0.030178 "
       ]
      },
      {
       "output_type": "stream",
       "stream": "stdout",
       "text": [
        "\n",
        "Minibatch iteration 8/1000000:mean batch inertia: 0.032941, ewa inertia: 0.030179 "
       ]
      },
      {
       "output_type": "stream",
       "stream": "stdout",
       "text": [
        "\n",
        "Minibatch iteration 9/1000000:mean batch inertia: 0.029968, ewa inertia: 0.030179 "
       ]
      },
      {
       "output_type": "stream",
       "stream": "stdout",
       "text": [
        "\n",
        "[_mini_batch_step] Reassigning 4826 cluster centers."
       ]
      },
      {
       "output_type": "stream",
       "stream": "stdout",
       "text": [
        "\n",
        "Minibatch iteration 10/1000000:mean batch inertia: 0.034429, ewa inertia: 0.030180 "
       ]
      },
      {
       "output_type": "stream",
       "stream": "stdout",
       "text": [
        "\n",
        "Minibatch iteration 11/1000000:mean batch inertia: 0.056701, ewa inertia: 0.030185 "
       ]
      },
      {
       "output_type": "stream",
       "stream": "stdout",
       "text": [
        "\n",
        "Minibatch iteration 12/1000000:mean batch inertia: 0.061453, ewa inertia: 0.030191 "
       ]
      },
      {
       "output_type": "stream",
       "stream": "stdout",
       "text": [
        "\n",
        "Minibatch iteration 13/1000000:mean batch inertia: 0.049665, ewa inertia: 0.030195 "
       ]
      },
      {
       "output_type": "stream",
       "stream": "stdout",
       "text": [
        "\n",
        "Converged (lack of improvement in inertia) at iteration 13/1000000\n"
       ]
      },
      {
       "output_type": "pyout",
       "prompt_number": 5,
       "text": [
        "MiniBatchKMeans(batch_size=100, compute_labels=False, init='k-means++',\n",
        "        init_size=None, k=5000, max_iter=100, max_no_improvement=10,\n",
        "        n_clusters=5000, n_init=3, random_state=0, reassignment_ratio=0.01,\n",
        "        tol=0.0, verbose=True)"
       ]
      }
     ],
     "prompt_number": 5
    },
    {
     "cell_type": "code",
     "collapsed": false,
     "input": [
      "local_feature_cluster_centroids = k_means_clustering.cluster_centers_\n",
      "\n",
      "print local_feature_cluster_centroids.shape"
     ],
     "language": "python",
     "metadata": {},
     "outputs": [
      {
       "output_type": "stream",
       "stream": "stdout",
       "text": [
        "(5000, 128)\n"
       ]
      }
     ],
     "prompt_number": 13
    },
    {
     "cell_type": "code",
     "collapsed": false,
     "input": [
      "scipy.io.savemat(local_feature_cluster_centroids_path_name_ext, {\"local_feature_cluster_centroids\":local_feature_cluster_centroids}, oned_as=\"column\")"
     ],
     "language": "python",
     "metadata": {},
     "outputs": [],
     "prompt_number": 9
    }
   ],
   "metadata": {}
  }
 ]
}