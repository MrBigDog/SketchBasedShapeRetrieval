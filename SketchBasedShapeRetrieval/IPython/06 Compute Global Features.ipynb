{
 "metadata": {
  "name": "06 Compute Global Features"
 },
 "nbformat": 3,
 "nbformat_minor": 0,
 "worksheets": [
  {
   "cells": [
    {
     "cell_type": "code",
     "collapsed": false,
     "input": [
      "import numpy\n",
      "import math\n",
      "import scipy\n",
      "import scipy.io\n",
      "import scipy.misc\n",
      "import scipy.cluster\n",
      "import scipy.cluster.vq\n",
      "import matplotlib\n",
      "import matplotlib.pyplot\n",
      "import os\n",
      "import IPython\n",
      "import IPython.parallel\n",
      "import itertools\n",
      "import random\n",
      "import sklearn\n",
      "import sklearn.decomposition\n",
      "import sklearn.manifold\n",
      "import sklearn.cluster\n",
      "import sklearn.feature_extraction\n",
      "import sklearn.feature_extraction.text\n",
      "\n",
      "base_path = \"/u/mlrobert/code/local/2013_drawing_assistant/data/\""
     ],
     "language": "python",
     "metadata": {},
     "outputs": [],
     "prompt_number": 86
    },
    {
     "cell_type": "code",
     "collapsed": false,
     "input": [
      "local_feature_cluster_centroids_path = \\\n",
      "    base_path+\"local_feature_cluster_centroids/bunny2/\"+ \\\n",
      "    \"apparent_ridges.num_latitude_lines=20.num_longitude_lines=20.gabor.num_thetas=08.galif.patch_width=15.num_samples=32.num_tiles=04.num_samples=1000000.k=5000/\"\n",
      "\n",
      "local_features_base_path = \\\n",
      "    base_path+\"local_features/bunny2/\"+ \\\n",
      "    \"apparent_ridges.num_latitude_lines=20.num_longitude_lines=20.gabor.num_thetas=08.galif.patch_width=15.num_samples=32.num_tiles=04/\"\n",
      "\n",
      "global_features_path = \\\n",
      "    base_path+\"global_features/bunny2/\"+ \\\n",
      "    \"apparent_ridges.num_latitude_lines=20.num_longitude_lines=20.gabor.num_thetas=08.galif.patch_width=15.num_samples=32.num_tiles=04.num_samples=1000000.k=5000/\"\n",
      "\n",
      "if not os.path.exists(global_features_path):\n",
      "    os.makedirs(global_features_path)\n",
      "\n",
      "local_feature_cluster_centroids_path_name_ext = local_feature_cluster_centroids_path+\"local_feature_cluster_centroids.mat\""
     ],
     "language": "python",
     "metadata": {},
     "outputs": [],
     "prompt_number": 56
    },
    {
     "cell_type": "code",
     "collapsed": false,
     "input": [
      "img_names  = sorted(os.listdir(local_features_base_path))\n",
      "num_images = len(img_names)\n",
      "\n",
      "assert(num_images > 0)\n",
      "\n",
      "theta_names = sorted(os.listdir(local_features_base_path+img_names[0]))\n",
      "num_thetas  = len(theta_names)\n",
      "\n",
      "assert(num_thetas > 0)\n",
      "\n",
      "local_feature_names = sorted(os.listdir(local_features_base_path+img_names[0]+\"/\"+theta_names[0]))\n",
      "num_local_features  = len(local_feature_names)\n",
      "\n",
      "assert(num_local_features > 0)\n",
      "\n",
      "num_samples = 1000000"
     ],
     "language": "python",
     "metadata": {},
     "outputs": [],
     "prompt_number": 62
    },
    {
     "cell_type": "code",
     "collapsed": false,
     "input": [
      "local_feature_cluster_centroids_mat = scipy.io.loadmat(local_feature_cluster_centroids_path_name_ext)\n",
      "local_feature_cluster_centroids     = local_feature_cluster_centroids_mat[\"local_feature_cluster_centroids\"]\n",
      "\n",
      "print local_feature_cluster_centroids.shape"
     ],
     "language": "python",
     "metadata": {},
     "outputs": [
      {
       "output_type": "stream",
       "stream": "stdout",
       "text": [
        "(5000, 128)\n"
       ]
      }
     ],
     "prompt_number": 64
    },
    {
     "cell_type": "code",
     "collapsed": false,
     "input": [
      "def compute_global_features(img_name):\n",
      "\n",
      "    import numpy\n",
      "    import scipy\n",
      "    import scipy.io\n",
      "    import scipy.cluster\n",
      "    import scipy.cluster.vq\n",
      "    \n",
      "    local_feature_norm_accept_threshold = 0.01\n",
      "    codebook_size                       = 5000\n",
      "    \n",
      "    all_local_features = []\n",
      "    \n",
      "    for local_feature_name in local_feature_names:\n",
      "    \n",
      "        local_features = []\n",
      "        \n",
      "        for theta in range(num_thetas):\n",
      "            \n",
      "            local_feature_path = \\\n",
      "                local_features_base_path+ \\\n",
      "                img_name+\"/\"+theta_names[theta]+\"/\"+local_feature_name\n",
      "    \n",
      "            local_feature_mat = scipy.io.loadmat(local_feature_path)\n",
      "            local_feature     = local_feature_mat[\"tile\"]\n",
      "            \n",
      "            local_features.append(local_feature)\n",
      "    \n",
      "        local_features_1d = numpy.array(local_features).ravel()\n",
      "    \n",
      "        if numpy.linalg.norm(local_features_1d) > local_feature_norm_accept_threshold:\n",
      "            all_local_features.append(local_features_1d)\n",
      "    \n",
      "    all_local_features_2d                             = numpy.array(all_local_features)\n",
      "    all_local_features_2d_codebook_indices, distances = scipy.cluster.vq.vq(all_local_features_2d, local_feature_cluster_centroids)\n",
      "    hist, bin_edges                                   = numpy.histogram(all_local_features_2d_codebook_indices, bins=codebook_size)\n",
      "    global_features_path_name_ext                     = global_features_path+img_name+\".mat\"\n",
      "    \n",
      "    scipy.io.savemat(global_features_path_name_ext, {\"global_features\":hist}, oned_as=\"column\")"
     ],
     "language": "python",
     "metadata": {},
     "outputs": [],
     "prompt_number": 88
    },
    {
     "cell_type": "code",
     "collapsed": false,
     "input": [
      "compute_global_features(img_names[0])"
     ],
     "language": "python",
     "metadata": {},
     "outputs": [],
     "prompt_number": 80
    },
    {
     "cell_type": "code",
     "collapsed": false,
     "input": [
      "client = IPython.parallel.Client()\n",
      "directView = client[:]\n",
      "\n",
      "directView[\"local_features_base_path\"]        = local_features_base_path\n",
      "directView[\"global_features_path\"]            = global_features_path\n",
      "directView[\"theta_names\"]                     = theta_names\n",
      "directView[\"num_thetas\"]                      = num_thetas\n",
      "directView[\"local_feature_names\"]             = local_feature_names\n",
      "directView[\"local_feature_cluster_centroids\"] = local_feature_cluster_centroids\n",
      "\n",
      "asyncResult = directView.map_async(compute_global_features, img_names)"
     ],
     "language": "python",
     "metadata": {},
     "outputs": [],
     "prompt_number": 98
    },
    {
     "cell_type": "code",
     "collapsed": false,
     "input": [
      "print asyncResult.progress\n",
      "print asyncResult.ready()"
     ],
     "language": "python",
     "metadata": {},
     "outputs": [
      {
       "output_type": "stream",
       "stream": "stdout",
       "text": [
        "22\n",
        "True\n"
       ]
      }
     ],
     "prompt_number": 106
    },
    {
     "cell_type": "code",
     "collapsed": false,
     "input": [
      "results = asyncResult.get()\n",
      "\n",
      "print results"
     ],
     "language": "python",
     "metadata": {},
     "outputs": [
      {
       "output_type": "stream",
       "stream": "stdout",
       "text": [
        "[None, None, None, None, None, None, None, None, None, None, None, None, None, None, None, None, None, None, None, None, None, None, None, None, None, None, None, None, None, None, None, None, None, None, None, None, None, None, None, None, None, None, None, None, None, None, None, None, None, None, None, None, None, None, None, None, None, None, None, None, None, None, None, None, None, None, None, None, None, None, None, None, None, None, None, None, None, None, None, None, None, None, None, None, None, None, None, None, None, None, None, None, None, None, None, None, None, None, None, None, None, None, None, None, None, None, None, None, None, None, None, None, None, None, None, None, None, None, None, None, None, None, None, None, None, None, None, None, None, None, None, None, None, None, None, None, None, None, None, None, None, None, None, None, None, None, None, None, None, None, None, None, None, None, None, None, None, None, None, None, None, None, None, None, None, None, None, None, None, None, None, None, None, None, None, None, None, None, None, None, None, None, None, None, None, None, None, None, None, None, None, None, None, None, None, None, None, None, None, None, None, None, None, None, None, None, None, None, None, None, None, None, None, None, None, None, None, None, None, None, None, None, None, None, None, None, None, None, None, None, None, None, None, None, None, None, None, None, None, None, None, None, None, None, None, None, None, None, None, None, None, None, None, None, None, None, None, None, None, None, None, None, None, None, None, None, None, None, None, None, None, None, None, None, None, None, None, None, None, None, None, None, None, None, None, None, None, None, None, None, None, None, None, None, None, None, None, None, None, None, None, None, None, None, None, None, None, None, None, None, None, None, None, None, None, None, None, None, None, None, None, None, None, None, None, None, None, None, None, None, None, None, None, None, None, None, None, None, None, None, None, None, None, None, None, None, None, None, None, None, None, None, None, None, None, None, None, None, None, None, None, None, None, None, None, None, None, None, None, None, None, None, None, None, None, None, None, None, None, None]\n"
       ]
      }
     ],
     "prompt_number": 107
    }
   ],
   "metadata": {}
  }
 ]
}