{
 "metadata": {
  "name": "08 Compute Matches from Input Sketch (Cython)"
 },
 "nbformat": 3,
 "nbformat_minor": 0,
 "worksheets": [
  {
   "cells": [
    {
     "cell_type": "code",
     "collapsed": false,
     "input": [
      "%load_ext cythonmagic\n",
      "\n",
      "import numpy\n",
      "import math\n",
      "import scipy\n",
      "import scipy.io\n",
      "import scipy.misc\n",
      "import scipy.cluster\n",
      "import scipy.cluster.vq\n",
      "import matplotlib\n",
      "import matplotlib.pyplot\n",
      "import os\n",
      "import IPython\n",
      "import IPython.parallel\n",
      "import itertools\n",
      "import random\n",
      "import sklearn\n",
      "import sklearn.decomposition\n",
      "import sklearn.manifold\n",
      "import sklearn.cluster\n",
      "import sklearn.feature_extraction\n",
      "import sklearn.feature_extraction.text\n",
      "\n",
      "base_path = \"/u/mlrobert/code/local/2013_drawing_assistant/data/\""
     ],
     "language": "python",
     "metadata": {},
     "outputs": [],
     "prompt_number": 312
    },
    {
     "cell_type": "code",
     "collapsed": false,
     "input": [
      "img_path    = base_path+\"renderings/bunny2/apparent_ridges.num_latitude_lines=20.num_longitude_lines=20/\"\n",
      "filter_path = base_path+\"filters/gabor/num_thetas=08/\"\n",
      "\n",
      "local_feature_cluster_centroids_path = \\\n",
      "    base_path+\"local_feature_cluster_centroids/bunny2/\"+ \\\n",
      "    \"apparent_ridges.num_latitude_lines=20.num_longitude_lines=20.gabor.num_thetas=08.galif.patch_width=15.num_samples=32.num_tiles=04.num_samples=1000000.k=5000/\"\n",
      "\n",
      "global_features_path = \\\n",
      "    base_path+\"global_features/bunny2/\"+ \\\n",
      "    \"apparent_ridges.num_latitude_lines=20.num_longitude_lines=20.gabor.num_thetas=08.galif.patch_width=15.num_samples=32.num_tiles=04.num_samples=1000000.k=5000/\"\n",
      "\n",
      "img_names_exts                                = sorted(os.listdir(img_path))\n",
      "local_feature_cluster_centroids_path_name_ext = local_feature_cluster_centroids_path+\"local_feature_cluster_centroids.mat\"\n",
      "global_features_names_exts                    = sorted(os.listdir(global_features_path))\n",
      "num_thetas                                    = len(sorted(os.listdir(filter_path)))\n",
      "num_images                                    = len(img_names_exts)\n",
      "codebook_size                                 = 5000"
     ],
     "language": "python",
     "metadata": {},
     "outputs": [],
     "prompt_number": 313
    },
    {
     "cell_type": "code",
     "collapsed": false,
     "input": [
      "filter_path = base_path+\"filters/gabor/num_thetas=08/\"\n",
      "\n",
      "tmp = []\n",
      "\n",
      "for theta_index in range(num_thetas):\n",
      "    \n",
      "    current_g_mat = scipy.io.loadmat(filter_path+\"theta=%02d.mat\" % theta_index)\n",
      "    current_g     = current_g_mat[\"g\"]\n",
      "    \n",
      "    tmp.append(current_g)\n",
      "\n",
      "g = numpy.array(tmp)"
     ],
     "language": "python",
     "metadata": {},
     "outputs": [],
     "prompt_number": 314
    },
    {
     "cell_type": "code",
     "collapsed": false,
     "input": [
      "local_feature_cluster_centroids_mat = scipy.io.loadmat(local_feature_cluster_centroids_path_name_ext)\n",
      "local_feature_cluster_centroids     = local_feature_cluster_centroids_mat[\"local_feature_cluster_centroids\"]"
     ],
     "language": "python",
     "metadata": {},
     "outputs": [],
     "prompt_number": 315
    },
    {
     "cell_type": "code",
     "collapsed": false,
     "input": [
      "all_global_features = []\n",
      "\n",
      "for global_features_name_ext in global_features_names_exts:\n",
      "    global_features_mat = scipy.io.loadmat(global_features_path+global_features_name_ext)\n",
      "    global_features     = global_features_mat[\"global_features\"].ravel()\n",
      "    all_global_features.append(global_features)\n",
      "\n",
      "all_global_features_2d        = numpy.array(all_global_features)\n",
      "tf_idf_transformer            = sklearn.feature_extraction.text.TfidfTransformer()\n",
      "tf_idf_all_global_features_2d = numpy.array(tf_idf_transformer.fit_transform(all_global_features_2d).todense()).squeeze()"
     ],
     "language": "python",
     "metadata": {},
     "outputs": [],
     "prompt_number": 316
    },
    {
     "cell_type": "code",
     "collapsed": false,
     "input": [
      "img_index = 124\n",
      "img       = scipy.misc.imread(img_path+img_names_exts[img_index]).astype(numpy.float32)[:,:,0]\n",
      "img       = (255.0 - img) / 255.0\n",
      "\n",
      "figsize(4,4)\n",
      "imshow(img, cmap=\"gray\");\n",
      "title(img_names_exts[img_index])\n",
      "colorbar();"
     ],
     "language": "python",
     "metadata": {},
     "outputs": [
      {
       "output_type": "display_data",
       "png": "[encoded data removed]"
      }
     ],
     "prompt_number": 331
    },
    {
     "cell_type": "code",
     "collapsed": false,
     "input": [
      "num_samples_width                = 32\n",
      "patch_width_as_fraction_of_width = 0.15\n",
      "use_squared_filter_response      = True\n",
      "\n",
      "num_samples_height               = int((float(img.shape[0])*float(num_samples_width))/float(img.shape[1]))\n",
      "samples_y                        = numpy.linspace(0, img.shape[0]-1, num_samples_height+2).astype(numpy.int32)\n",
      "samples_x                        = numpy.linspace(0, img.shape[1]-1, num_samples_width+2).astype(numpy.int32)\n",
      "patch_size                       = int(img.shape[1] * patch_width_as_fraction_of_width)\n",
      "\n",
      "if patch_size % 2 == 0:\n",
      "    patch_size = patch_size + 1\n",
      "\n",
      "patch_half_size = int((patch_size - 1) / 2)\n",
      "\n",
      "filter_responses_padded = zeros((num_thetas, img.shape[0]+patch_size-1, img.shape[1]+patch_size-1), dtype=float32)"
     ],
     "language": "python",
     "metadata": {},
     "outputs": [],
     "prompt_number": 320
    },
    {
     "cell_type": "code",
     "collapsed": false,
     "input": [
      "def compute_filter_responses_padded():\n",
      "    for theta_index in range(num_thetas):\n",
      "        \n",
      "        F_img                              = numpy.fft.fft2(img)\n",
      "        F_img_centered                     = numpy.fft.fftshift(F_img)\n",
      "        F_img_centered_filtered            = F_img_centered * g[theta_index]\n",
      "        F_img_centered_filtered_uncentered = numpy.fft.ifftshift(F_img_centered_filtered)\n",
      "        filter_response                    = numpy.fft.ifft2(F_img_centered_filtered_uncentered)\n",
      "    \n",
      "        if use_squared_filter_response:\n",
      "            filter_response = abs(filter_response)*abs(filter_response)\n",
      "        else:\n",
      "            filter_response = abs(filter_response)\n",
      "        \n",
      "        filter_responses_padded[theta_index,patch_half_size:img.shape[0]+patch_half_size,patch_half_size:img.shape[1]+patch_half_size] = \\\n",
      "            filter_response"
     ],
     "language": "python",
     "metadata": {},
     "outputs": [],
     "prompt_number": 321
    },
    {
     "cell_type": "code",
     "collapsed": false,
     "input": [
      "compute_filter_responses_padded()"
     ],
     "language": "python",
     "metadata": {},
     "outputs": [],
     "prompt_number": 322
    },
    {
     "cell_type": "code",
     "collapsed": false,
     "input": [
      "%%cython\n",
      "\n",
      "import  numpy\n",
      "cimport numpy\n",
      "\n",
      "import scipy\n",
      "import scipy.cluster\n",
      "import scipy.cluster.vq\n",
      "\n",
      "ctypedef numpy.float32_t FLOAT32_DTYPE_t\n",
      "ctypedef numpy.int32_t   INT32_DTYPE_t\n",
      "\n",
      "cdef inline float _mean(numpy.ndarray[FLOAT32_DTYPE_t, ndim=2] a):\n",
      "    cdef int   y = 0\n",
      "    cdef int   x = 0\n",
      "    cdef float s = 0\n",
      "    cdef float n = a.shape[0]*a.shape[1]\n",
      "    for y in range(a.shape[0]):\n",
      "        for x in range(a.shape[1]):\n",
      "            s = s+a[y,x]\n",
      "    return s / n\n",
      "\n",
      "def compute_local_features(\n",
      "    numpy.ndarray[FLOAT32_DTYPE_t, ndim=2] img,\n",
      "    numpy.ndarray[FLOAT32_DTYPE_t, ndim=3] filter_responses_padded,\n",
      "    int num_thetas,\n",
      "    int num_samples_height,\n",
      "    int num_samples_width,\n",
      "    int patch_size):\n",
      "\n",
      "    cdef int   num_tiles_per_dimension_per_patch\n",
      "    cdef float local_feature_norm_accept_threshold\n",
      "    \n",
      "    num_tiles_per_dimension_per_patch   = 4\n",
      "    local_feature_norm_accept_threshold = 0.01\n",
      "\n",
      "    cdef numpy.ndarray[INT32_DTYPE_t,   ndim=1] samples_y\n",
      "    cdef numpy.ndarray[INT32_DTYPE_t,   ndim=1] samples_x\n",
      "    cdef numpy.ndarray[INT32_DTYPE_t,   ndim=1] tile_bounds\n",
      "    cdef numpy.ndarray[FLOAT32_DTYPE_t, ndim=2] patch\n",
      "    cdef numpy.ndarray[FLOAT32_DTYPE_t, ndim=2] tile\n",
      "    cdef numpy.ndarray[FLOAT32_DTYPE_t, ndim=1] tile_1d\n",
      "    cdef numpy.ndarray[FLOAT32_DTYPE_t, ndim=1] local_features_1d\n",
      "    \n",
      "    cdef int sample_y, sample_x, theta_index, tile_index_y, tile_index_x, patch_index_y, patch_index_x\n",
      "\n",
      "    samples_y   = numpy.linspace(0, img.shape[0]-1, num_samples_height+2).astype(numpy.int32)\n",
      "    samples_x   = numpy.linspace(0, img.shape[1]-1, num_samples_width+2).astype(numpy.int32)\n",
      "    tile_bounds = numpy.linspace(0, patch_size, num_tiles_per_dimension_per_patch+1).astype(numpy.int32)\n",
      "\n",
      "    all_local_features_list = []\n",
      "\n",
      "    for sample_y in samples_y:\n",
      "        for sample_x in samples_x:\n",
      "\n",
      "            local_features_list = []\n",
      "            \n",
      "            for theta_index in range(num_thetas):\n",
      "            \n",
      "                filter_response_padded = filter_responses_padded[theta_index,:,:]\n",
      "                patch                  = filter_response_padded[sample_y:sample_y+patch_size, sample_x:sample_x+patch_size]\n",
      "                tile                   = numpy.zeros((num_tiles_per_dimension_per_patch, num_tiles_per_dimension_per_patch), dtype=numpy.float32)\n",
      "            \n",
      "                for tile_index_y in range(num_tiles_per_dimension_per_patch):\n",
      "                    for tile_index_x in range(num_tiles_per_dimension_per_patch):\n",
      "                        tile[tile_index_y, tile_index_x] = _mean(patch[tile_bounds[tile_index_y]:tile_bounds[tile_index_y+1], \\\n",
      "                                                                       tile_bounds[tile_index_x]:tile_bounds[tile_index_x+1]])\n",
      "                        \n",
      "                tile_1d = tile.ravel()\n",
      "                local_features_list.append(tile_1d)\n",
      "                \n",
      "            local_features_1d = numpy.array(local_features_list).ravel()\n",
      "\n",
      "            if numpy.linalg.norm(local_features_1d) > local_feature_norm_accept_threshold:\n",
      "                all_local_features_list.append(local_features_1d)\n",
      "    \n",
      "    return numpy.array(all_local_features_list, dtype=numpy.float32)"
     ],
     "language": "python",
     "metadata": {},
     "outputs": [],
     "prompt_number": 323
    },
    {
     "cell_type": "code",
     "collapsed": false,
     "input": [
      "local_features = compute_local_features(img, filter_responses_padded, num_thetas, num_samples_height, num_samples_width, patch_size)"
     ],
     "language": "python",
     "metadata": {},
     "outputs": [],
     "prompt_number": 326
    },
    {
     "cell_type": "code",
     "collapsed": false,
     "input": [
      "def compute_global_features():\n",
      "    local_features_codebook_indices, distances = scipy.cluster.vq.vq(local_features, local_feature_cluster_centroids)\n",
      "    hist, bin_edges                            = numpy.histogram(local_features_codebook_indices, bins=codebook_size)\n",
      "    tf_idf_hist                                = numpy.array(tf_idf_transformer.transform(hist).todense()).squeeze()"
     ],
     "language": "python",
     "metadata": {},
     "outputs": [],
     "prompt_number": 327
    },
    {
     "cell_type": "code",
     "collapsed": false,
     "input": [
      "compute_global_features()"
     ],
     "language": "python",
     "metadata": {},
     "outputs": [],
     "prompt_number": 329
    },
    {
     "cell_type": "code",
     "collapsed": false,
     "input": [
      "plot(tf_idf_hist);"
     ],
     "language": "python",
     "metadata": {},
     "outputs": [
      {
       "output_type": "display_data",
       "png": "[encoded data removed]"
      }
     ],
     "prompt_number": 332
    },
    {
     "cell_type": "code",
     "collapsed": false,
     "input": [
      "def compute_distances():\n",
      "    cos_distances  = dot(tf_idf_all_global_features_2d, tf_idf_hist)\n",
      "    distances      = arccos(cos_distances)\n",
      "    sorted_indices = argsort(distances)"
     ],
     "language": "python",
     "metadata": {},
     "outputs": [],
     "prompt_number": 333
    },
    {
     "cell_type": "code",
     "collapsed": false,
     "input": [
      "print \"%s (distance = %f) \" % (img_names_exts[sorted_indices[0]], distances[sorted_indices[0]])\n",
      "print \"%s (distance = %f) \" % (img_names_exts[sorted_indices[1]], distances[sorted_indices[1]])\n",
      "print \"%s (distance = %f) \" % (img_names_exts[sorted_indices[2]], distances[sorted_indices[2]])\n",
      "print \"%s (distance = %f) \" % (img_names_exts[sorted_indices[3]], distances[sorted_indices[3]])\n",
      "print \"%s (distance = %f) \" % (img_names_exts[sorted_indices[4]], distances[sorted_indices[4]])\n",
      "\n",
      "plot(distances);"
     ],
     "language": "python",
     "metadata": {},
     "outputs": [
      {
       "output_type": "stream",
       "stream": "stdout",
       "text": [
        "latitude=07.longitude=04.png (distance = 0.000000) \n",
        "latitude=08.longitude=04.png (distance = 0.405799) \n",
        "latitude=09.longitude=04.png (distance = 0.451262) \n",
        "latitude=07.longitude=05.png (distance = 0.583955) \n",
        "latitude=09.longitude=05.png (distance = 0.627951) \n"
       ]
      },
      {
       "output_type": "display_data",
       "png": "[encoded data removed]"
      }
     ],
     "prompt_number": 334
    },
    {
     "cell_type": "code",
     "collapsed": false,
     "input": [
      "def find_matches():\n",
      "\n",
      "    compute_filter_responses_padded()\n",
      "    local_features = compute_local_features(img, filter_responses_padded, num_thetas, num_samples_height, num_samples_width, patch_size)\n",
      "    compute_global_features()\n",
      "    compute_distances()"
     ],
     "language": "python",
     "metadata": {},
     "outputs": [],
     "prompt_number": 335
    },
    {
     "cell_type": "code",
     "collapsed": false,
     "input": [
      "%timeit -n2 -r3 find_matches()"
     ],
     "language": "python",
     "metadata": {},
     "outputs": [
      {
       "output_type": "stream",
       "stream": "stdout",
       "text": [
        "2 loops, best of 3: 2.15 s per loop\n"
       ]
      }
     ],
     "prompt_number": 336
    }
   ],
   "metadata": {}
  }
 ]
}