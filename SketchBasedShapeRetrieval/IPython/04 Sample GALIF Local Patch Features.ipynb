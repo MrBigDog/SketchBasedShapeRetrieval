{
 "metadata": {
  "name": "04 Sample GALIF Local Patch Features"
 },
 "nbformat": 3,
 "nbformat_minor": 0,
 "worksheets": [
  {
   "cells": [
    {
     "cell_type": "code",
     "collapsed": false,
     "input": [
      "import numpy\n",
      "import math\n",
      "import scipy\n",
      "import scipy.io\n",
      "import scipy.misc\n",
      "import scipy.cluster\n",
      "import scipy.cluster.vq\n",
      "import matplotlib\n",
      "import matplotlib.pyplot\n",
      "import os\n",
      "import IPython\n",
      "import IPython.parallel\n",
      "import itertools\n",
      "import random\n",
      "import sklearn\n",
      "import sklearn.decomposition\n",
      "import sklearn.manifold\n",
      "import sklearn.cluster\n",
      "import sklearn.feature_extraction\n",
      "import sklearn.feature_extraction.text\n",
      "\n",
      "base_path = \"/u/mlrobert/code/local/2013_drawing_assistant/data/\""
     ],
     "language": "python",
     "metadata": {},
     "outputs": [],
     "prompt_number": 9
    },
    {
     "cell_type": "code",
     "collapsed": false,
     "input": [
      "local_features_base_path = \\\n",
      "    base_path+\"local_features/bunny2/\"+ \\\n",
      "    \"apparent_ridges.num_latitude_lines=20.num_longitude_lines=20.gabor.num_thetas=08.galif.patch_width=15.num_samples=32.num_tiles=04/\"\n",
      "    \n",
      "local_feature_corpus_path = \\\n",
      "    base_path+\"local_feature_corpus/bunny2/\"+ \\\n",
      "    \"apparent_ridges.num_latitude_lines=20.num_longitude_lines=20.gabor.num_thetas=08.galif.patch_width=15.num_samples=32.num_tiles=04.num_samples=1000000/\"\n",
      "\n",
      "if not os.path.exists(local_feature_corpus_path):\n",
      "    os.makedirs(local_feature_corpus_path)\n",
      "    \n",
      "local_feature_corpus_path_name_ext = local_feature_corpus_path+\"local_feature_corpus.mat\""
     ],
     "language": "python",
     "metadata": {},
     "outputs": [],
     "prompt_number": 10
    },
    {
     "cell_type": "code",
     "collapsed": false,
     "input": [
      "img_names  = sorted(os.listdir(local_features_base_path))\n",
      "num_images = len(img_names)\n",
      "\n",
      "assert(num_images > 0)\n",
      "\n",
      "theta_names = sorted(os.listdir(local_features_base_path+img_names[0]))\n",
      "num_thetas  = len(filter_response_names)\n",
      "\n",
      "assert(num_thetas > 0)\n",
      "\n",
      "local_feature_names = sorted(os.listdir(local_features_base_path+img_names[0]+\"/\"+theta_names[0]))\n",
      "num_local_features  = len(local_feature_names)\n",
      "\n",
      "assert(num_local_features > 0)\n",
      "\n",
      "num_samples = 1000000"
     ],
     "language": "python",
     "metadata": {},
     "outputs": [],
     "prompt_number": 15
    },
    {
     "cell_type": "code",
     "collapsed": false,
     "input": [
      "def sample_galif_local_patch_features(i):\n",
      "    \n",
      "    import numpy\n",
      "    import scipy\n",
      "    import scipy.io\n",
      "    import os\n",
      "    import random\n",
      "    \n",
      "    local_feature_norm_accept_threshold = 0.01\n",
      "    \n",
      "    seed = i\n",
      "    random.seed(seed)\n",
      "    \n",
      "    while True:\n",
      "        \n",
      "        img_index             = random.randint(0, num_images-1)\n",
      "        local_feature_index   = random.randint(0, num_local_features-1)\n",
      "        local_features        = []\n",
      "        \n",
      "        for theta in range(num_filter_responses):\n",
      "            \n",
      "            local_feature_path = \\\n",
      "                local_features_base_path+ \\\n",
      "                img_names[img_index]+\"/\"+theta_names[theta]+\"/\"+local_feature_names[local_feature_index]\n",
      "\n",
      "            local_feature_mat = scipy.io.loadmat(local_feature_path)\n",
      "            local_feature     = local_feature_mat[\"tile\"]\n",
      "            \n",
      "            local_features.append(local_feature)\n",
      "\n",
      "        local_features_1d = numpy.array(local_features).ravel()\n",
      "\n",
      "        if numpy.linalg.norm(local_features_1d) > local_feature_norm_accept_threshold:\n",
      "            return local_features_1d\n"
     ],
     "language": "python",
     "metadata": {},
     "outputs": [],
     "prompt_number": 16
    },
    {
     "cell_type": "code",
     "collapsed": false,
     "input": [
      "sample_galif_local_patch_features(0)"
     ],
     "language": "python",
     "metadata": {},
     "outputs": [
      {
       "output_type": "pyout",
       "prompt_number": 13,
       "text": [
        "array([  1.25503885e-02,   1.56224507e-16,   3.55844455e-18,\n",
        "         9.66582880e-19,   3.68366875e-02,   2.30905840e-15,\n",
        "         1.46352894e-16,   5.00131662e-17,   1.94858182e-02,\n",
        "         9.93788711e-16,   8.55840369e-17,   2.04457259e-17,\n",
        "         6.83820981e-04,   3.34656629e-17,   3.07121842e-18,\n",
        "         2.47915646e-18,   1.72255766e-02,   3.78955182e-16,\n",
        "         9.25462904e-17,   5.08536479e-17,   2.79102754e-02,\n",
        "         1.85977674e-11,   1.45605122e-15,   6.83807528e-16,\n",
        "         1.13661410e-02,   2.31444308e-09,   6.26560753e-16,\n",
        "         3.22237962e-16,   8.96456710e-04,   7.40719153e-11,\n",
        "         1.79946035e-16,   1.53748180e-16,   1.96443051e-02,\n",
        "         1.44436009e-17,   2.85329633e-23,   1.68921152e-23,\n",
        "         1.81390401e-02,   7.17347757e-06,   8.16211786e-23,\n",
        "         4.26519579e-23,   8.60711653e-03,   7.97646317e-06,\n",
        "         1.96115137e-20,   1.43041018e-22,   1.02236029e-03,\n",
        "         3.85416214e-08,   1.58118676e-20,   1.18915935e-22,\n",
        "         2.09188554e-02,   2.73223009e-07,   1.18165008e-27,\n",
        "         2.61043996e-33,   1.15437489e-02,   8.08722398e-05,\n",
        "         2.62495053e-14,   1.17438601e-32,   8.09137616e-03,\n",
        "         2.71850477e-05,   5.76774617e-14,   7.79000906e-31,\n",
        "         1.07943779e-03,   8.33580671e-08,   3.68827097e-17,\n",
        "         2.61892030e-32,   1.70403607e-02,   2.40039935e-05,\n",
        "         1.03543998e-13,   8.55980828e-29,   9.66384076e-03,\n",
        "         1.22136727e-04,   1.85887633e-12,   4.04254467e-27,\n",
        "         9.51215066e-03,   1.86843736e-05,   7.83141862e-14,\n",
        "         6.21811219e-29,   9.07308073e-04,   2.04318140e-09,\n",
        "         3.01020577e-21,   1.39171331e-32,   1.13537312e-02,\n",
        "         2.79894630e-05,   4.82625008e-14,   7.76631626e-31,\n",
        "         1.06423441e-02,   7.56566660e-05,   3.57000467e-14,\n",
        "         1.15317296e-32,   1.42507087e-02,   2.30971841e-06,\n",
        "         2.23172053e-20,   1.49845643e-32,   2.44225317e-04,\n",
        "         8.66696219e-19,   5.61858620e-28,   1.71485744e-32,\n",
        "         9.09178983e-03,   6.76762374e-06,   2.58607533e-20,\n",
        "         2.18091184e-23,   1.43531766e-02,   8.32684418e-06,\n",
        "         6.90260108e-23,   3.69371529e-23,   2.51681022e-02,\n",
        "         2.23853453e-11,   2.65112043e-22,   1.39325937e-22,\n",
        "         5.70358225e-06,   2.22661557e-22,   1.41810521e-22,\n",
        "         1.06867037e-22,   9.36236419e-03,   2.28496178e-09,\n",
        "         9.50969515e-17,   5.19852707e-17,   2.50972472e-02,\n",
        "         2.48373544e-11,   1.41554050e-15,   6.80327916e-16,\n",
        "         3.44720967e-02,   1.56085493e-15,   5.42968183e-16,\n",
        "         3.01184693e-16,   1.21200006e-04,   2.40986194e-16,\n",
        "         1.75301171e-16,   1.52438534e-16], dtype=float32)"
       ]
      }
     ],
     "prompt_number": 13
    },
    {
     "cell_type": "code",
     "collapsed": false,
     "input": [
      "client = IPython.parallel.Client()\n",
      "directView = client[:]\n",
      "\n",
      "directView[\"local_features_base_path\"] = local_features_base_path\n",
      "directView[\"img_names\"]                = img_names\n",
      "directView[\"num_images\"]               = num_images\n",
      "directView[\"theta_names\"]              = theta_names\n",
      "directView[\"num_thetas\"]               = num_thetas\n",
      "directView[\"local_feature_names\"]      = local_feature_names\n",
      "directView[\"num_local_features\"]       = num_local_features\n",
      "\n",
      "asyncResult = directView.map_async(sample_galif_local_patch_features, range(num_samples))"
     ],
     "language": "python",
     "metadata": {},
     "outputs": [],
     "prompt_number": 35
    },
    {
     "cell_type": "code",
     "collapsed": false,
     "input": [
      "print asyncResult.progress\n",
      "print asyncResult.ready()"
     ],
     "language": "python",
     "metadata": {},
     "outputs": [
      {
       "output_type": "stream",
       "stream": "stdout",
       "text": [
        "32\n",
        "True\n"
       ]
      }
     ],
     "prompt_number": 38
    },
    {
     "cell_type": "code",
     "collapsed": false,
     "input": [
      "result_list = asyncResult.get()\n",
      "result      = numpy.array(result_list)\n",
      "\n",
      "scipy.io.savemat(local_feature_corpus_path_name_ext, {\"local_features\":result}, oned_as=\"column\")"
     ],
     "language": "python",
     "metadata": {},
     "outputs": [],
     "prompt_number": 39
    }
   ],
   "metadata": {}
  }
 ]
}