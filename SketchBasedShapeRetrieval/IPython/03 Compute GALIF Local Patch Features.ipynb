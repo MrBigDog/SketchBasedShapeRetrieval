{
 "metadata": {
  "name": "03 Compute GALIF Local Patch Features"
 },
 "nbformat": 3,
 "nbformat_minor": 0,
 "worksheets": [
  {
   "cells": [
    {
     "cell_type": "code",
     "collapsed": false,
     "input": [
      "import numpy\n",
      "import math\n",
      "import scipy\n",
      "import scipy.io\n",
      "import scipy.misc\n",
      "import scipy.cluster\n",
      "import scipy.cluster.vq\n",
      "import matplotlib\n",
      "import matplotlib.pyplot\n",
      "import os\n",
      "import IPython\n",
      "import IPython.parallel\n",
      "import itertools\n",
      "import random\n",
      "import sklearn\n",
      "import sklearn.decomposition\n",
      "import sklearn.manifold\n",
      "import sklearn.cluster\n",
      "import sklearn.feature_extraction\n",
      "import sklearn.feature_extraction.text\n",
      "\n",
      "base_path = \"/u/mlrobert/code/local/2013_drawing_assistant/data/\""
     ],
     "language": "python",
     "metadata": {},
     "outputs": [],
     "prompt_number": 14
    },
    {
     "cell_type": "code",
     "collapsed": false,
     "input": [
      "filter_responses_base_path = \\\n",
      "    base_path+\"filter_responses/bunny2/apparent_ridges.num_latitude_lines=20.num_longitude_lines=20.gabor.num_thetas=08/\"\n",
      "\n",
      "local_features_base_path = \\\n",
      "    base_path+\"local_features/bunny2/\"+\\\n",
      "    \"apparent_ridges.num_latitude_lines=20.num_longitude_lines=20.gabor.num_thetas=08.galif.patch_width=15.num_samples=32.num_tiles=04/\"\n",
      "\n",
      "debug_base_path = \\\n",
      "    base_path+\"debug/local_features/bunny2/\"+\\\n",
      "    \"apparent_ridges.num_latitude_lines=20.num_longitude_lines=20.gabor.num_thetas=08.galif.patch_width=15.num_samples=32.num_tiles=04/\""
     ],
     "language": "python",
     "metadata": {},
     "outputs": [],
     "prompt_number": 15
    },
    {
     "cell_type": "code",
     "collapsed": false,
     "input": [
      "def compute_galif_local_patch_features(img_name):\n",
      "\n",
      "    import numpy\n",
      "    import scipy\n",
      "    import scipy.io\n",
      "    import scipy.misc\n",
      "    import matplotlib\n",
      "    import matplotlib.pyplot\n",
      "    import os\n",
      "    import itertools\n",
      "    \n",
      "    patch_width_as_fraction_of_width  = 0.15\n",
      "    num_samples_width                 = 32\n",
      "    num_tiles_per_dimension_per_patch = 4\n",
      "    use_squared_filter_response       = True\n",
      "    \n",
      "    \n",
      "    \n",
      "    filter_responses_names_exts = sorted(os.listdir(filter_responses_base_path+img_name))\n",
      "\n",
      "    for filter_response_name_ext in filter_responses_names_exts:\n",
      "        \n",
      "        filter_response_name = filter_response_name_ext[:-4]\n",
      "        filter_response_ext  = filter_response_name_ext[-4:]\n",
      "    \n",
      "        local_features_path = local_features_base_path+img_name+\"/\"+filter_response_name+\"/\"\n",
      "        debug_path          = debug_base_path+img_name+\"/\"+filter_response_name+\"/\"\n",
      "        \n",
      "        if not os.path.exists(local_features_path):\n",
      "            os.makedirs(local_features_path)\n",
      "        \n",
      "        if not os.path.exists(debug_path):\n",
      "            os.makedirs(debug_path)\n",
      "        \n",
      "        \n",
      "        \n",
      "        filter_response_mat = scipy.io.loadmat(filter_responses_base_path+img_name+\"/\"+filter_response_name_ext)\n",
      "        filter_response     = filter_response_mat[\"filter_response\"]\n",
      "        \n",
      "        \n",
      "        num_samples_height = (float(filter_response.shape[0])*float(num_samples_width))/float(filter_response.shape[1])\n",
      "        samples_y          = numpy.linspace(0, filter_response.shape[0]-1, num_samples_height+2).astype(numpy.int32)\n",
      "        samples_x          = numpy.linspace(0, filter_response.shape[1]-1, num_samples_width+2).astype(numpy.int32)\n",
      "        patch_size         = int(filter_response.shape[1] * patch_width_as_fraction_of_width)\n",
      "        \n",
      "        if patch_size % 2 == 0:\n",
      "            patch_size = patch_size + 1\n",
      "        \n",
      "        patch_half_size = (patch_size - 1) / 2\n",
      "        \n",
      "        if use_squared_filter_response:\n",
      "            filter_response_to_sample = abs(filter_response)*abs(filter_response)\n",
      "        else:\n",
      "            filter_response_to_sample = abs(filter_response)\n",
      "        \n",
      "        filter_response_to_sample_padded = numpy.pad(filter_response_to_sample, (patch_half_size,patch_half_size), \"constant\")\n",
      "    \n",
      "    \n",
      "    \n",
      "        for sample in list(itertools.product(samples_y, samples_x)):\n",
      "        \n",
      "            patch       = filter_response_to_sample_padded[sample[0]:sample[0]+patch_size, sample[1]:sample[1]+patch_size]\n",
      "            tile_bounds = numpy.linspace(0, patch_size, num_tiles_per_dimension_per_patch+1).astype(numpy.int32)\n",
      "            tile        = numpy.zeros((num_tiles_per_dimension_per_patch, num_tiles_per_dimension_per_patch), dtype=numpy.float32)\n",
      "        \n",
      "            for tile_index in list(itertools.product(range(num_tiles_per_dimension_per_patch), range(num_tiles_per_dimension_per_patch))):\n",
      "                tile[tile_index] = numpy.mean(patch[tile_bounds[tile_index[0]]:tile_bounds[tile_index[0]+1], \\\n",
      "                                                    tile_bounds[tile_index[1]]:tile_bounds[tile_index[1]+1]])\n",
      "    \n",
      "            scipy.io.savemat(\n",
      "                \"%sy=%04d.x=%04d.mat\" % (local_features_path, sample[0], sample[1]),\n",
      "                {\"tile\":tile},\n",
      "                oned_as=\"column\")\n",
      "\n",
      "            matplotlib.pyplot.clf();\n",
      "            matplotlib.pyplot.imshow(tile, interpolation=\"nearest\");\n",
      "            matplotlib.pyplot.colorbar();\n",
      "            matplotlib.pyplot.savefig(\"%sy=%04d.x=%04d.png\" % (debug_path, sample[0], sample[1]));\n",
      "            matplotlib.pyplot.clf();"
     ],
     "language": "python",
     "metadata": {},
     "outputs": [],
     "prompt_number": 60
    },
    {
     "cell_type": "code",
     "collapsed": false,
     "input": [
      "img_names = sorted(os.listdir(filter_responses_base_path))"
     ],
     "language": "python",
     "metadata": {},
     "outputs": [],
     "prompt_number": 48
    },
    {
     "cell_type": "code",
     "collapsed": false,
     "input": [
      "compute_galif_local_patch_features(img_names[0])"
     ],
     "language": "python",
     "metadata": {},
     "outputs": [],
     "prompt_number": 13
    },
    {
     "cell_type": "code",
     "collapsed": false,
     "input": [
      "client = IPython.parallel.Client()\n",
      "directView = client[:]\n",
      "\n",
      "directView[\"filter_responses_base_path\"] = filter_responses_base_path\n",
      "directView[\"local_features_base_path\"]   = local_features_base_path\n",
      "directView[\"debug_base_path\"]            = debug_base_path\n",
      "\n",
      "asyncResult = directView.map_async(compute_galif_local_patch_features, img_names)"
     ],
     "language": "python",
     "metadata": {},
     "outputs": [],
     "prompt_number": 61
    },
    {
     "cell_type": "code",
     "collapsed": false,
     "input": [
      "print asyncResult.progress\n",
      "print asyncResult.ready()"
     ],
     "language": "python",
     "metadata": {},
     "outputs": [
      {
       "output_type": "stream",
       "stream": "stdout",
       "text": [
        "32\n",
        "True\n"
       ]
      }
     ],
     "prompt_number": 78
    },
    {
     "cell_type": "code",
     "collapsed": false,
     "input": [
      "result = asyncResult.get()\n",
      "print result"
     ],
     "language": "python",
     "metadata": {},
     "outputs": [
      {
       "output_type": "stream",
       "stream": "stdout",
       "text": [
        "[None, None, None, None, None, None, None, None, None, None, None, None, None, None, None, None, None, None, None, None, None, None, None, None, None, None, None, None, None, None, None, None, None, None, None, None, None, None, None, None, None, None, None, None, None, None, None, None, None, None, None, None, None, None, None, None, None, None, None, None, None, None, None, None, None, None, None, None, None, None, None, None, None, None, None, None, None, None, None, None, None, None, None, None, None, None, None, None, None, None, None, None, None, None, None, None, None, None, None, None, None, None, None, None, None, None, None, None, None, None, None, None, None, None, None, None, None, None, None, None, None, None, None, None, None, None, None, None, None, None, None, None, None, None, None, None, None, None, None, None, None, None, None, None, None, None, None, None, None, None, None, None, None, None, None, None, None, None, None, None, None, None, None, None, None, None, None, None, None, None, None, None, None, None, None, None, None, None, None, None, None, None, None, None, None, None, None, None, None, None, None, None, None, None, None, None, None, None, None, None, None, None, None, None, None, None, None, None, None, None, None, None, None, None, None, None, None, None, None, None, None, None, None, None, None, None, None, None, None, None, None, None, None, None, None, None, None, None, None, None, None, None, None, None, None, None, None, None, None, None, None, None, None, None, None, None, None, None, None, None, None, None, None, None, None, None, None, None, None, None, None, None, None, None, None, None, None, None, None, None, None, None, None, None, None, None, None, None, None, None, None, None, None, None, None, None, None, None, None, None, None, None, None, None, None, None, None, None, None, None, None, None, None, None, None, None, None, None, None, None, None, None, None, None, None, None, None, None, None, None, None, None, None, None, None, None, None, None, None, None, None, None, None, None, None, None, None, None, None, None, None, None, None, None, None, None, None, None, None, None, None, None, None, None, None, None, None, None, None, None, None, None, None, None, None, None, None, None, None, None]\n"
       ]
      }
     ],
     "prompt_number": 79
    }
   ],
   "metadata": {}
  }
 ]
}