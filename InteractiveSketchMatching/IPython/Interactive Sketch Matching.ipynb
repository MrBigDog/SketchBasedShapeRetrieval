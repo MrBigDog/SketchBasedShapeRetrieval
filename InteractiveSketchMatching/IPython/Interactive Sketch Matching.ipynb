{
 "metadata": {
  "name": "Interactive Sketch Matching"
 },
 "nbformat": 3,
 "nbformat_minor": 0,
 "worksheets": [
  {
   "cells": [
    {
     "cell_type": "code",
     "collapsed": false,
     "input": [
      "import sys\n",
      "import os\n",
      "import PySide\n",
      "import PySide.QtCore\n",
      "import PySide.QtGui\n",
      "import PySide.QtUiTools\n",
      "import PySide.QtOpenGL\n",
      "\n",
      "os.system(\"pyside-uic main_window.ui > main_window_ui.py\")\n",
      "import main_window_ui"
     ],
     "language": "python",
     "metadata": {},
     "outputs": [],
     "prompt_number": 1
    },
    {
     "cell_type": "code",
     "collapsed": false,
     "input": [
      "application = PySide.QtGui.QApplication(sys.argv)"
     ],
     "language": "python",
     "metadata": {},
     "outputs": [],
     "prompt_number": 2
    },
    {
     "cell_type": "code",
     "collapsed": false,
     "input": [
      "mainWindow = PySide.QtGui.QMainWindow()\n",
      "mainWindow.ui = main_window_ui.Ui_MainWindow()\n",
      "\n",
      "mainWindow.ui.setupUi(mainWindow)\n",
      "\n",
      "listWidget = mainWindow.findChild(PySide.QtGui.QListWidget, \"listWidget\")\n",
      "widget     = mainWindow.findChild(PySide.QtGui.QListWidget, \"widget\")\n",
      "\n",
      "listWidget.addItem(\"blah\")\n",
      "\n",
      "mainWindow.show()\n",
      "\n",
      "ret = application.exec_()\n",
      "print ret"
     ],
     "language": "python",
     "metadata": {},
     "outputs": [
      {
       "output_type": "stream",
       "stream": "stdout",
       "text": [
        "0\n"
       ]
      }
     ],
     "prompt_number": 3
    }
   ],
   "metadata": {}
  }
 ]
}